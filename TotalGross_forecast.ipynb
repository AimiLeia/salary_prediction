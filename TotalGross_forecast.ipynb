{
 "cells": [
  {
   "cell_type": "code",
   "execution_count": 1,
   "metadata": {},
   "outputs": [],
   "source": [
    "# import packages\n",
    "import pandas as pd\n",
    "import numpy as np\n",
    "\n",
    "from sklearn.linear_model import Ridge, ElasticNet\n",
    "from sklearn.svm import SVR\n",
    "from sklearn.ensemble import RandomForestRegressor\n",
    "\n",
    "from sklearn.model_selection import train_test_split\n",
    "from sklearn.model_selection import KFold\n",
    "\n",
    "from math import sqrt\n",
    "from sklearn.metrics import mean_squared_error\n",
    "from sklearn.metrics import mean_absolute_error\n",
    "from sklearn.preprocessing import StandardScaler\n",
    "from sklearn.preprocessing import LabelEncoder\n",
    "from sklearn.decomposition import PCA\n",
    "from hyperopt import STATUS_OK, Trials, fmin, hp, tpe\n",
    "\n",
    "import warnings\n",
    "warnings.filterwarnings(\"ignore\")\n",
    "\n",
    "import seaborn as sns\n",
    "import matplotlib.pyplot as plt\n",
    "%matplotlib inline\n",
    "\n",
    "pd.set_option(\"display.max_columns\", None)"
   ]
  },
  {
   "cell_type": "code",
   "execution_count": 60,
   "metadata": {},
   "outputs": [
    {
     "data": {
      "text/html": [
       "<div>\n",
       "<style scoped>\n",
       "    .dataframe tbody tr th:only-of-type {\n",
       "        vertical-align: middle;\n",
       "    }\n",
       "\n",
       "    .dataframe tbody tr th {\n",
       "        vertical-align: top;\n",
       "    }\n",
       "\n",
       "    .dataframe thead th {\n",
       "        text-align: right;\n",
       "    }\n",
       "</style>\n",
       "<table border=\"1\" class=\"dataframe\">\n",
       "  <thead>\n",
       "    <tr style=\"text-align: right;\">\n",
       "      <th></th>\n",
       "      <th>wp_id</th>\n",
       "      <th>wp_status</th>\n",
       "      <th>business_model</th>\n",
       "      <th>company_id</th>\n",
       "      <th>company_name</th>\n",
       "      <th>wp_starts_on</th>\n",
       "      <th>wp_ends_on</th>\n",
       "      <th>job_function</th>\n",
       "      <th>candidate_id</th>\n",
       "      <th>candidate_name</th>\n",
       "      <th>total_gross</th>\n",
       "      <th>est_total_gross</th>\n",
       "      <th>issue_reported</th>\n",
       "      <th>contract_type</th>\n",
       "      <th>gross_wage_amount</th>\n",
       "      <th>gross_wage_time_unit</th>\n",
       "      <th>work_period_unit</th>\n",
       "      <th>work_period_amount</th>\n",
       "      <th>work_period_hours</th>\n",
       "      <th>fee_percentage</th>\n",
       "      <th>is_cancelled</th>\n",
       "    </tr>\n",
       "  </thead>\n",
       "  <tbody>\n",
       "    <tr>\n",
       "      <th>0</th>\n",
       "      <td>1723992</td>\n",
       "      <td>upcoming</td>\n",
       "      <td>staffing_agency</td>\n",
       "      <td>299204747</td>\n",
       "      <td>Hurst-Garcia</td>\n",
       "      <td>2020-04-01</td>\n",
       "      <td>2020-04-30</td>\n",
       "      <td>support-guy</td>\n",
       "      <td>49285305</td>\n",
       "      <td>Kenneth Price</td>\n",
       "      <td>1114.285714</td>\n",
       "      <td>1114.285714</td>\n",
       "      <td>False</td>\n",
       "      <td>full_time</td>\n",
       "      <td>650</td>\n",
       "      <td>hour</td>\n",
       "      <td>month</td>\n",
       "      <td>2.0</td>\n",
       "      <td>40.0</td>\n",
       "      <td>3.92</td>\n",
       "      <td>0</td>\n",
       "    </tr>\n",
       "    <tr>\n",
       "      <th>1</th>\n",
       "      <td>4706480</td>\n",
       "      <td>paid</td>\n",
       "      <td>staffing_agency</td>\n",
       "      <td>168767792</td>\n",
       "      <td>Peterson-Wilson</td>\n",
       "      <td>2017-10-01</td>\n",
       "      <td>2017-10-31</td>\n",
       "      <td>f1-guy</td>\n",
       "      <td>57564699</td>\n",
       "      <td>Susan Jensen</td>\n",
       "      <td>1061.660000</td>\n",
       "      <td>1041.660000</td>\n",
       "      <td>False</td>\n",
       "      <td>full_time</td>\n",
       "      <td>104166</td>\n",
       "      <td>month</td>\n",
       "      <td>month</td>\n",
       "      <td>12.0</td>\n",
       "      <td>40.0</td>\n",
       "      <td>5.00</td>\n",
       "      <td>0</td>\n",
       "    </tr>\n",
       "    <tr>\n",
       "      <th>2</th>\n",
       "      <td>5002046</td>\n",
       "      <td>paid</td>\n",
       "      <td>staffing_agency</td>\n",
       "      <td>146877029</td>\n",
       "      <td>Adams LLC</td>\n",
       "      <td>2017-08-01</td>\n",
       "      <td>2017-08-28</td>\n",
       "      <td>f1-guy</td>\n",
       "      <td>52752416</td>\n",
       "      <td>Christie Keller</td>\n",
       "      <td>664.280000</td>\n",
       "      <td>1031.968000</td>\n",
       "      <td>False</td>\n",
       "      <td>full_time</td>\n",
       "      <td>110568</td>\n",
       "      <td>month</td>\n",
       "      <td>month</td>\n",
       "      <td>1.6</td>\n",
       "      <td>40.0</td>\n",
       "      <td>0.00</td>\n",
       "      <td>0</td>\n",
       "    </tr>\n",
       "    <tr>\n",
       "      <th>3</th>\n",
       "      <td>6879092</td>\n",
       "      <td>payslip_generated</td>\n",
       "      <td>staffing_agency</td>\n",
       "      <td>396877181</td>\n",
       "      <td>Gonzales-Zuniga</td>\n",
       "      <td>2016-11-01</td>\n",
       "      <td>2016-11-30</td>\n",
       "      <td>editor</td>\n",
       "      <td>41650643</td>\n",
       "      <td>Bradley Barron</td>\n",
       "      <td>1058.280000</td>\n",
       "      <td>1042.760000</td>\n",
       "      <td>False</td>\n",
       "      <td>full_time</td>\n",
       "      <td>104276</td>\n",
       "      <td>month</td>\n",
       "      <td>month</td>\n",
       "      <td>3.0</td>\n",
       "      <td>40.0</td>\n",
       "      <td>10.00</td>\n",
       "      <td>0</td>\n",
       "    </tr>\n",
       "    <tr>\n",
       "      <th>4</th>\n",
       "      <td>3278989</td>\n",
       "      <td>paid</td>\n",
       "      <td>staffing_agency</td>\n",
       "      <td>28940115</td>\n",
       "      <td>Davies LLC</td>\n",
       "      <td>2018-01-01</td>\n",
       "      <td>2018-01-10</td>\n",
       "      <td>f1-guy</td>\n",
       "      <td>57648833</td>\n",
       "      <td>Kathy Mathews</td>\n",
       "      <td>554.940000</td>\n",
       "      <td>419.446667</td>\n",
       "      <td>False</td>\n",
       "      <td>full_time</td>\n",
       "      <td>125834</td>\n",
       "      <td>month</td>\n",
       "      <td>month</td>\n",
       "      <td>12.0</td>\n",
       "      <td>40.0</td>\n",
       "      <td>0.00</td>\n",
       "      <td>1</td>\n",
       "    </tr>\n",
       "  </tbody>\n",
       "</table>\n",
       "</div>"
      ],
      "text/plain": [
       "     wp_id          wp_status   business_model  company_id     company_name  \\\n",
       "0  1723992           upcoming  staffing_agency   299204747     Hurst-Garcia   \n",
       "1  4706480               paid  staffing_agency   168767792  Peterson-Wilson   \n",
       "2  5002046               paid  staffing_agency   146877029        Adams LLC   \n",
       "3  6879092  payslip_generated  staffing_agency   396877181  Gonzales-Zuniga   \n",
       "4  3278989               paid  staffing_agency    28940115       Davies LLC   \n",
       "\n",
       "  wp_starts_on  wp_ends_on job_function  candidate_id   candidate_name  \\\n",
       "0   2020-04-01  2020-04-30  support-guy      49285305    Kenneth Price   \n",
       "1   2017-10-01  2017-10-31       f1-guy      57564699     Susan Jensen   \n",
       "2   2017-08-01  2017-08-28       f1-guy      52752416  Christie Keller   \n",
       "3   2016-11-01  2016-11-30       editor      41650643   Bradley Barron   \n",
       "4   2018-01-01  2018-01-10       f1-guy      57648833    Kathy Mathews   \n",
       "\n",
       "   total_gross  est_total_gross  issue_reported contract_type  \\\n",
       "0  1114.285714      1114.285714           False     full_time   \n",
       "1  1061.660000      1041.660000           False     full_time   \n",
       "2   664.280000      1031.968000           False     full_time   \n",
       "3  1058.280000      1042.760000           False     full_time   \n",
       "4   554.940000       419.446667           False     full_time   \n",
       "\n",
       "   gross_wage_amount gross_wage_time_unit work_period_unit  \\\n",
       "0                650                 hour            month   \n",
       "1             104166                month            month   \n",
       "2             110568                month            month   \n",
       "3             104276                month            month   \n",
       "4             125834                month            month   \n",
       "\n",
       "   work_period_amount  work_period_hours  fee_percentage  is_cancelled  \n",
       "0                 2.0               40.0            3.92             0  \n",
       "1                12.0               40.0            5.00             0  \n",
       "2                 1.6               40.0            0.00             0  \n",
       "3                 3.0               40.0           10.00             0  \n",
       "4                12.0               40.0            0.00             1  "
      ]
     },
     "execution_count": 60,
     "metadata": {},
     "output_type": "execute_result"
    }
   ],
   "source": [
    "# Read csv file\n",
    "df = pd.read_csv('dataset/job_contracts_dataset.csv')\n",
    "df.head()\n"
   ]
  },
  {
   "cell_type": "code",
   "execution_count": 61,
   "metadata": {
    "scrolled": true
   },
   "outputs": [
    {
     "name": "stdout",
     "output_type": "stream",
     "text": [
      "<class 'pandas.core.frame.DataFrame'>\n",
      "RangeIndex: 14125 entries, 0 to 14124\n",
      "Data columns (total 21 columns):\n",
      " #   Column                Non-Null Count  Dtype  \n",
      "---  ------                --------------  -----  \n",
      " 0   wp_id                 14125 non-null  int64  \n",
      " 1   wp_status             14125 non-null  object \n",
      " 2   business_model        14125 non-null  object \n",
      " 3   company_id            14125 non-null  int64  \n",
      " 4   company_name          14125 non-null  object \n",
      " 5   wp_starts_on          14125 non-null  object \n",
      " 6   wp_ends_on            14125 non-null  object \n",
      " 7   job_function          14125 non-null  object \n",
      " 8   candidate_id          14125 non-null  int64  \n",
      " 9   candidate_name        14125 non-null  object \n",
      " 10  total_gross           14125 non-null  float64\n",
      " 11  est_total_gross       14125 non-null  float64\n",
      " 12  issue_reported        14125 non-null  bool   \n",
      " 13  contract_type         14125 non-null  object \n",
      " 14  gross_wage_amount     14125 non-null  int64  \n",
      " 15  gross_wage_time_unit  14125 non-null  object \n",
      " 16  work_period_unit      14125 non-null  object \n",
      " 17  work_period_amount    14125 non-null  float64\n",
      " 18  work_period_hours     14125 non-null  float64\n",
      " 19  fee_percentage        14125 non-null  float64\n",
      " 20  is_cancelled          14125 non-null  int64  \n",
      "dtypes: bool(1), float64(5), int64(5), object(10)\n",
      "memory usage: 2.2+ MB\n"
     ]
    }
   ],
   "source": [
    "df.info()"
   ]
  },
  {
   "cell_type": "markdown",
   "metadata": {},
   "source": [
    "<font color='blue'> \n",
    "__What df.info() tells us__  \n",
    "    </font>\n",
    "There are no missing values in the dataset as df.info() suggests.  \n",
    "Also, we have multiple data types within the columns that will later be transformed.  \n",
    "Next, the describe() function is applied to check distribution of respective columns:"
   ]
  },
  {
   "cell_type": "code",
   "execution_count": 62,
   "metadata": {},
   "outputs": [
    {
     "data": {
      "text/html": [
       "<div>\n",
       "<style scoped>\n",
       "    .dataframe tbody tr th:only-of-type {\n",
       "        vertical-align: middle;\n",
       "    }\n",
       "\n",
       "    .dataframe tbody tr th {\n",
       "        vertical-align: top;\n",
       "    }\n",
       "\n",
       "    .dataframe thead th {\n",
       "        text-align: right;\n",
       "    }\n",
       "</style>\n",
       "<table border=\"1\" class=\"dataframe\">\n",
       "  <thead>\n",
       "    <tr style=\"text-align: right;\">\n",
       "      <th></th>\n",
       "      <th>wp_id</th>\n",
       "      <th>company_id</th>\n",
       "      <th>candidate_id</th>\n",
       "      <th>total_gross</th>\n",
       "      <th>est_total_gross</th>\n",
       "      <th>gross_wage_amount</th>\n",
       "      <th>work_period_amount</th>\n",
       "      <th>work_period_hours</th>\n",
       "      <th>fee_percentage</th>\n",
       "      <th>is_cancelled</th>\n",
       "    </tr>\n",
       "  </thead>\n",
       "  <tbody>\n",
       "    <tr>\n",
       "      <th>count</th>\n",
       "      <td>1.412500e+04</td>\n",
       "      <td>1.412500e+04</td>\n",
       "      <td>1.412500e+04</td>\n",
       "      <td>14125.000000</td>\n",
       "      <td>14125.000000</td>\n",
       "      <td>14125.000000</td>\n",
       "      <td>14125.000000</td>\n",
       "      <td>14125.000000</td>\n",
       "      <td>14125.000000</td>\n",
       "      <td>14125.000000</td>\n",
       "    </tr>\n",
       "    <tr>\n",
       "      <th>mean</th>\n",
       "      <td>3.982254e+06</td>\n",
       "      <td>2.806616e+08</td>\n",
       "      <td>5.471279e+07</td>\n",
       "      <td>901.460886</td>\n",
       "      <td>871.649018</td>\n",
       "      <td>84587.754619</td>\n",
       "      <td>9.384612</td>\n",
       "      <td>33.137027</td>\n",
       "      <td>4.732677</td>\n",
       "      <td>0.329345</td>\n",
       "    </tr>\n",
       "    <tr>\n",
       "      <th>std</th>\n",
       "      <td>2.305371e+06</td>\n",
       "      <td>1.591639e+08</td>\n",
       "      <td>7.647798e+06</td>\n",
       "      <td>594.240973</td>\n",
       "      <td>578.676573</td>\n",
       "      <td>68669.124029</td>\n",
       "      <td>11.346158</td>\n",
       "      <td>11.235131</td>\n",
       "      <td>3.478055</td>\n",
       "      <td>0.469992</td>\n",
       "    </tr>\n",
       "    <tr>\n",
       "      <th>min</th>\n",
       "      <td>7.730000e+02</td>\n",
       "      <td>2.641165e+06</td>\n",
       "      <td>1.358000e+04</td>\n",
       "      <td>-30.810000</td>\n",
       "      <td>-368.342857</td>\n",
       "      <td>500.000000</td>\n",
       "      <td>-9.200000</td>\n",
       "      <td>1.000000</td>\n",
       "      <td>0.000000</td>\n",
       "      <td>0.000000</td>\n",
       "    </tr>\n",
       "    <tr>\n",
       "      <th>25%</th>\n",
       "      <td>1.980253e+06</td>\n",
       "      <td>1.468770e+08</td>\n",
       "      <td>5.511102e+07</td>\n",
       "      <td>375.000000</td>\n",
       "      <td>353.245000</td>\n",
       "      <td>898.000000</td>\n",
       "      <td>3.000000</td>\n",
       "      <td>30.000000</td>\n",
       "      <td>1.700000</td>\n",
       "      <td>0.000000</td>\n",
       "    </tr>\n",
       "    <tr>\n",
       "      <th>50%</th>\n",
       "      <td>3.980127e+06</td>\n",
       "      <td>2.628645e+08</td>\n",
       "      <td>5.764168e+07</td>\n",
       "      <td>981.000000</td>\n",
       "      <td>981.000000</td>\n",
       "      <td>105426.000000</td>\n",
       "      <td>5.000000</td>\n",
       "      <td>40.000000</td>\n",
       "      <td>5.000000</td>\n",
       "      <td>0.000000</td>\n",
       "    </tr>\n",
       "    <tr>\n",
       "      <th>75%</th>\n",
       "      <td>5.996166e+06</td>\n",
       "      <td>4.428450e+08</td>\n",
       "      <td>5.777155e+07</td>\n",
       "      <td>1265.640000</td>\n",
       "      <td>1258.300000</td>\n",
       "      <td>125834.000000</td>\n",
       "      <td>12.000000</td>\n",
       "      <td>40.000000</td>\n",
       "      <td>6.000000</td>\n",
       "      <td>1.000000</td>\n",
       "    </tr>\n",
       "    <tr>\n",
       "      <th>max</th>\n",
       "      <td>7.981365e+06</td>\n",
       "      <td>5.581467e+08</td>\n",
       "      <td>5.794367e+07</td>\n",
       "      <td>7484.571429</td>\n",
       "      <td>7484.571429</td>\n",
       "      <td>500000.000000</td>\n",
       "      <td>72.900000</td>\n",
       "      <td>51.000000</td>\n",
       "      <td>43.300000</td>\n",
       "      <td>1.000000</td>\n",
       "    </tr>\n",
       "  </tbody>\n",
       "</table>\n",
       "</div>"
      ],
      "text/plain": [
       "              wp_id    company_id  candidate_id   total_gross  \\\n",
       "count  1.412500e+04  1.412500e+04  1.412500e+04  14125.000000   \n",
       "mean   3.982254e+06  2.806616e+08  5.471279e+07    901.460886   \n",
       "std    2.305371e+06  1.591639e+08  7.647798e+06    594.240973   \n",
       "min    7.730000e+02  2.641165e+06  1.358000e+04    -30.810000   \n",
       "25%    1.980253e+06  1.468770e+08  5.511102e+07    375.000000   \n",
       "50%    3.980127e+06  2.628645e+08  5.764168e+07    981.000000   \n",
       "75%    5.996166e+06  4.428450e+08  5.777155e+07   1265.640000   \n",
       "max    7.981365e+06  5.581467e+08  5.794367e+07   7484.571429   \n",
       "\n",
       "       est_total_gross  gross_wage_amount  work_period_amount  \\\n",
       "count     14125.000000       14125.000000        14125.000000   \n",
       "mean        871.649018       84587.754619            9.384612   \n",
       "std         578.676573       68669.124029           11.346158   \n",
       "min        -368.342857         500.000000           -9.200000   \n",
       "25%         353.245000         898.000000            3.000000   \n",
       "50%         981.000000      105426.000000            5.000000   \n",
       "75%        1258.300000      125834.000000           12.000000   \n",
       "max        7484.571429      500000.000000           72.900000   \n",
       "\n",
       "       work_period_hours  fee_percentage  is_cancelled  \n",
       "count       14125.000000    14125.000000  14125.000000  \n",
       "mean           33.137027        4.732677      0.329345  \n",
       "std            11.235131        3.478055      0.469992  \n",
       "min             1.000000        0.000000      0.000000  \n",
       "25%            30.000000        1.700000      0.000000  \n",
       "50%            40.000000        5.000000      0.000000  \n",
       "75%            40.000000        6.000000      1.000000  \n",
       "max            51.000000       43.300000      1.000000  "
      ]
     },
     "execution_count": 62,
     "metadata": {},
     "output_type": "execute_result"
    }
   ],
   "source": [
    "# describe df to check distribution of numerical columns and detect possible issues\n",
    "df.describe()"
   ]
  },
  {
   "cell_type": "code",
   "execution_count": 63,
   "metadata": {},
   "outputs": [
    {
     "data": {
      "text/plain": [
       "<matplotlib.axes._subplots.AxesSubplot at 0x7f494bdc34a8>"
      ]
     },
     "execution_count": 63,
     "metadata": {},
     "output_type": "execute_result"
    },
    {
     "data": {
      "image/png": "[encoded data removed]",
      "text/plain": [
       "<Figure size 432x288 with 1 Axes>"
      ]
     },
     "metadata": {
      "needs_background": "light"
     },
     "output_type": "display_data"
    }
   ],
   "source": [
    "# Create a boxplot to check for outliers in target variable\n",
    "sns.boxplot(df['total_gross'])"
   ]
  },
  {
   "cell_type": "code",
   "execution_count": 64,
   "metadata": {},
   "outputs": [],
   "source": [
    "# Isolated values of total gross are present, use mean & standard deviation as a threshold to remove them\n",
    "mean = df['total_gross'].mean()\n",
    "std = df['total_gross'].std()\n",
    "threshold = mean + 6*std\n",
    "df = df.loc[df['total_gross'] < threshold] "
   ]
  },
  {
   "cell_type": "code",
   "execution_count": 65,
   "metadata": {},
   "outputs": [
    {
     "data": {
      "image/png": "[encoded data removed]",
      "text/plain": [
       "<Figure size 720x576 with 4 Axes>"
      ]
     },
     "metadata": {
      "needs_background": "light"
     },
     "output_type": "display_data"
    }
   ],
   "source": [
    "# Explore some of the categorical variables to check # of categories and frequency\n",
    "\n",
    "fig, axs = plt.subplots(2, 2,figsize=(10,8))\n",
    "\n",
    "df['wp_status'].value_counts().plot(kind='bar', ax=axs[0,0], title='wp_status')\n",
    "df['job_function'].value_counts().plot(kind='bar', ax=axs[0,1], title = 'job_function')\n",
    "df['gross_wage_time_unit'].value_counts().plot(kind='bar', ax=axs[1,0], title='gross_wage_time_unit')\n",
    "df['work_period_unit'].value_counts().plot(kind='bar', ax=axs[1,1], title='work_period_unit')\n",
    "plt.tight_layout()"
   ]
  },
  {
   "cell_type": "markdown",
   "metadata": {},
   "source": [
    "<font color='blue'> \n",
    "__How to manipulate categorical columns?__  \n",
    "    </font>\n",
    "\n",
    "The above columns are not ordinal and thus we could apply one-hot encoding.  \n",
    "Nonetheless, since there are more than 3 categories per categorical column (except for gross_wage_time_unit), this would result in significant dimensionality increase in the feature space.  \n",
    "Therefore, label-encoding will be applied instead, and then standard scaling along with the numerical columns."
   ]
  },
  {
   "cell_type": "markdown",
   "metadata": {},
   "source": [
    "<font color='blue'> \n",
    "__The following preprocessing steps are performed in the next code blocks:__\n",
    "    </font>\n",
    "- Convert start/end date columns to datetime format and extract new feature (duration)\n",
    "- Convert a few categorical features to numerical ones using labelEncoder\n",
    "- Remove rows where either total_gross or est_total_gross are negative \n"
   ]
  },
  {
   "cell_type": "code",
   "execution_count": 66,
   "metadata": {},
   "outputs": [],
   "source": [
    "# Convert date columns to datetime format\n",
    "df['wp_starts_on'] = pd.to_datetime(df['wp_starts_on'])\n",
    "df['wp_ends_on'] = pd.to_datetime(df['wp_ends_on'])\n",
    "\n",
    "# Create new feature: duration of work period in days\n",
    "df['duration'] = (df['wp_ends_on']-df['wp_starts_on']).dt.days\n",
    "\n",
    "# encode categorical features that may be related to target column\n",
    "labEnc = LabelEncoder()\n",
    "for col in ['wp_status','job_function','gross_wage_time_unit','work_period_unit']:\n",
    "    df[col] = labEnc.fit_transform(df[col])\n",
    "\n",
    "# Assumption made: Negative total_gross column should not be included because negative salary doesn't make sense\n",
    "df = df.loc[df['total_gross']>=0]\n"
   ]
  },
  {
   "cell_type": "code",
   "execution_count": 67,
   "metadata": {},
   "outputs": [],
   "source": [
    "# The 'est_total_gross' column will be used as a baseline model to compare with the model we will develop\n",
    "baseline = df[['est_total_gross']]\n",
    "df.drop('est_total_gross', axis=1, inplace=True)"
   ]
  },
  {
   "cell_type": "markdown",
   "metadata": {},
   "source": [
    "<font color='blue'> \n",
    "__Explore correlations between columns__  \n",
    "    </font>\n",
    "We compute the correlation matrix of the dataframe to check for linear dependencies among the columns.  \n",
    "The respective heatmap suggests that there is strong correlation (corr > 0.5) between the target column (total_gross) and the following columns:  \n",
    "- duration\n",
    "- work_period_hours\n",
    "- gross_wage_amount  \n",
    "\n",
    "The above information gives some insights, but feature selection is discussed later."
   ]
  },
  {
   "cell_type": "code",
   "execution_count": 51,
   "metadata": {},
   "outputs": [
    {
     "data": {
      "text/plain": [
       "<matplotlib.axes._subplots.AxesSubplot at 0x7f4945be2780>"
      ]
     },
     "execution_count": 51,
     "metadata": {},
     "output_type": "execute_result"
    },
    {
     "data": {
      "image/png": "[encoded data removed]",
      "text/plain": [
       "<Figure size 720x360 with 2 Axes>"
      ]
     },
     "metadata": {
      "needs_background": "light"
     },
     "output_type": "display_data"
    }
   ],
   "source": [
    "# calculate correlation matrix and plot heatmap\n",
    "cormat = df.corr()\n",
    "\n",
    "fig, ax = plt.subplots(figsize=(10,5)) \n",
    "sns.heatmap(df.corr(),ax=ax)"
   ]
  },
  {
   "cell_type": "markdown",
   "metadata": {},
   "source": [
    "<font color='blue'> \n",
    "__Design Training and Testing phase__  \n",
    "    </font>\n",
    "To start experimenting with algorithms, we first divide the dataset to 67%-33%, where the 67% will be used for training & testing, and the 33% will be used for validation respectively.  \n",
    "The first set (67%) will be further split to multiple training-test sets within a cross validation process.  \n",
    "\n"
   ]
  },
  {
   "cell_type": "code",
   "execution_count": 71,
   "metadata": {},
   "outputs": [],
   "source": [
    "# Drop columns that seem to hold no important information\n",
    "X_all = df.drop(['total_gross','wp_id','business_model','wp_starts_on','wp_ends_on',\n",
    "              'issue_reported','company_id','company_name','contract_type','candidate_name'],axis=1)\n",
    "y_all = df['total_gross']\n",
    "\n",
    "# Split dataframe to Train/Test(X,y) and Validation(X_val,y_val) sets\n",
    "X, X_val, y, y_val = train_test_split(X_all, y_all, test_size=0.30, random_state=42)\n",
    "\n",
    "# Select the same indices from baseline array to compare the results later\n",
    "y_baseline = baseline.loc[y_val.index]\n"
   ]
  },
  {
   "cell_type": "markdown",
   "metadata": {},
   "source": [
    "<font color='blue'> \n",
    "__Design model selection process__  \n",
    "</font>\n",
    "- A standard scaling will be applied to the dataset\n",
    "- Regarding the feature selection process, instead of arbitarily choosing a specific number of features with sklearn functions such as SelectKBest, we will perform data transformation with PCA. \n",
    "- A Bayesian hyperoptimization process will be followed to explore various models and find best parameters\n",
    "\n",
    "The steps of the model selection pipeline are the following:  \n",
    "1. Define search spaces for each algorithm (we will explore Ridge regression, ElasticNet, SVR and RandomForest)\n",
    "2. Define search space for PCA (number of components)\n",
    "3. For each model select a subset of parameters and perform the steps:\n",
    "    - Apply standard scaling\n",
    "    - Apply PCA\n",
    "    - Create a 10-fold cross validation\n",
    "    - Compute the cv average error (we use root mean squared error as metric)\n",
    "\n",
    "<font color='blue'>     \n",
    "__Justification of error metric selection__  \n",
    "</font>\n",
    "Root mean squared error is selected here, because it is easy to interpret (in contrast to mse), while it still has the advantage of penalizing large prediction errors, as inherited by mse. \n"
   ]
  },
  {
   "cell_type": "code",
   "execution_count": 12,
   "metadata": {
    "scrolled": true
   },
   "outputs": [
    {
     "name": "stdout",
     "output_type": "stream",
     "text": [
      "Searching model  <class 'sklearn.linear_model._ridge.Ridge'>\n",
      "100%|██████████| 30/30 [00:14<00:00,  2.08trial/s, best loss: 246.58110384877236]\n",
      "Searching model  <class 'sklearn.linear_model._coordinate_descent.ElasticNet'>\n",
      "100%|██████████| 30/30 [00:12<00:00,  2.38trial/s, best loss: 246.58098016833188]\n",
      "Searching model  <class 'sklearn.ensemble._forest.RandomForestRegressor'>\n",
      "100%|██████████| 30/30 [47:04<00:00, 94.14s/trial, best loss: 171.92029414914253] \n",
      "Searching model  <class 'sklearn.svm._classes.SVR'>\n",
      "100%|██████████| 30/30 [1:02:03<00:00, 124.11s/trial, best loss: 228.46905293463118]\n"
     ]
    }
   ],
   "source": [
    "def objective(parameters):\n",
    "    kf = KFold(n_splits=10)\n",
    "    mdl=parameters[0]['mdl']().set_params(**parameters[1])\n",
    "#     mdl = mdl.set_params(**parameters[1])\n",
    "    loss = []\n",
    "    \n",
    "    for train_index, test_index in kf.split(X):\n",
    "        X_train, X_test = X[train_index], X[test_index]\n",
    "        y_train, y_test = y[train_index], y[test_index]\n",
    "        \n",
    "        # Use standard scaler to transform training set, then apply scaling to test set\n",
    "        scaler = StandardScaler()\n",
    "        X_train = scaler.fit_transform(X_train)\n",
    "        X_test = scaler.transform(X_test)\n",
    "        \n",
    "        # Perform PCA analysis to select components \n",
    "        pca = PCA(**parameters[2])\n",
    "        X_train = pca.fit_transform(X_train)\n",
    "        X_test = pca.transform(X_test)\n",
    "        \n",
    "        # train with selected model and predict test set\n",
    "        mdl = mdl.fit(X_train, y_train)\n",
    "        y_pred = mdl.predict(X_test)\n",
    "        \n",
    "        #calculate loss for each fold\n",
    "        loss.append(sqrt(mean_squared_error(y_test, y_pred)))\n",
    "        \n",
    "    return {'loss': np.mean(loss), 'parameters': parameters, 'status': STATUS_OK}\n",
    "\n",
    "\n",
    "# Define the space to search for best hyperparameters\n",
    "spaceRidge = [{'mdl':Ridge},\n",
    "              { 'solver': hp.choice('solver',['svd', 'cholesky', 'lsqr']),\n",
    "                'normalize': hp.choice('normalize',[True,False]),\n",
    "                'alpha': hp.choice('alpha',[0.1, 1, 10, 100]),\n",
    "                'fit_intercept': hp.choice('fit_intercept',[True,False]),\n",
    "                'random_state':42},\n",
    "              {'n_components' : hp.choice('n_components',list(range(3,X.shape[1]+1,1)))}\n",
    "              ]\n",
    "\n",
    "\n",
    "spaceElastic = [{'mdl':ElasticNet},\n",
    "                {'max_iter': hp.choice('max_iter',[1, 5, 10]),\n",
    "                 'alpha': hp.choice('alpha',[0.0001, 0.001, 0.01, 0.1, 1, 10, 100]),\n",
    "                 'l1_ratio': hp.choice('l1_ratio',np.arange(0.0, 1.0, 0.1)),\n",
    "                'random_state':42},\n",
    "                {'n_components' : hp.choice('n_components',list(range(3,X.shape[1]+1,1)))}\n",
    "    ]\n",
    "\n",
    "spaceSVR = [{'mdl':SVR},\n",
    "           {'kernel':'rbf',\n",
    "           'C':hp.choice('C',[0.1, 1, 10, 100]),\n",
    "           'gamma':hp.choice('gamma',[1e-2,1e-1,1])},\n",
    "            {'n_components' : hp.choice('n_components',list(range(3,X.shape[1]+1,1)))}\n",
    "           ]\n",
    "\n",
    "spaceRF = [{'mdl':RandomForestRegressor},\n",
    "           {'n_estimators':hp.choice('n_estimators',[50,100,150]),\n",
    "            'max_depth':hp.choice('learning_rate',list(range(10,100,20))),\n",
    "            'min_samples_split': hp.choice('min_samples_split',[2, 5, 10]),\n",
    "            'random_state':42},\n",
    "           {'n_components' : hp.choice('n_components',list(range(3,X.shape[1]+1,1)))}\n",
    "            ]\n",
    "\n",
    "\n",
    "# Put spaces to a list to iterate\n",
    "spaces = [spaceRidge, spaceElastic,spaceRF,spaceSVR]\n",
    "estimators = ['Ridge','ElasticNet','SVR']\n",
    "\n",
    "best_spaces = []\n",
    "best_losses = []\n",
    "\n",
    "for i in range(len(spaces)):\n",
    "    \n",
    "    space = spaces[i]\n",
    "    print('Searching model ',str(space[0]['mdl']))\n",
    "    trials = Trials()\n",
    "    best = fmin(fn=objective, space=space, algo=tpe.suggest, trials=trials, max_evals=30)\n",
    "    best_trial = sorted(trials.results, key=lambda x: x['loss'])\n",
    "    \n",
    "    best_spaces.append(best_trial[0]['parameters'])\n",
    "    best_losses.append(best_trial[0]['loss'])\n",
    "    \n",
    "    "
   ]
  },
  {
   "cell_type": "markdown",
   "metadata": {},
   "source": [
    "<font color='blue'> \n",
    "__Select best model__  \n",
    "</font>\n",
    "After the search is over, we select the model with the best (minimum) loss.  \n",
    "We create an instance of the selected algorithm and pass the parameters that were found to be the best performing.  \n",
    "The preprocessing steps (scaling and PCA) and the model are then applied to the entire dataset X,y which is the final training set.  \n",
    "After applying the same preprocessing steps to the validation set (X_val, y_val), we make the prediction for the latter.\n"
   ]
  },
  {
   "cell_type": "code",
   "execution_count": 72,
   "metadata": {},
   "outputs": [
    {
     "name": "stdout",
     "output_type": "stream",
     "text": [
      "Best loss from model selection process: 171.92029414914253\n"
     ]
    }
   ],
   "source": [
    "# Print best loss and find index of best model\n",
    "print('Best loss from model selection process:',np.min(best_losses))\n",
    "ind = np.argmin(best_losses)\n",
    "\n",
    "# Get best parameters from the search \n",
    "n_components = best_spaces[ind][2]['n_components']\n",
    "params = best_spaces[ind][1]\n",
    "mdl = best_spaces[ind][0]['mdl']()\n",
    "mdl.set_params(**params)\n",
    "\n",
    "# Fit training data to StabdardScaler, then transform X_val \n",
    "scaler = StandardScaler()\n",
    "X = scaler.fit_transform(X)\n",
    "X_val = scaler.transform(X_val)\n",
    "\n",
    "# Fit training data to PCA, then transform X_val \n",
    "pca = PCA(n_components)\n",
    "X = pca.fit_transform(X)\n",
    "X_val = pca.transform(X_val)\n",
    "\n",
    "# Fit model to training data, then predict X_val \n",
    "mdl.fit(X,y)\n",
    "y_pred = mdl.predict(X_val)"
   ]
  },
  {
   "cell_type": "code",
   "execution_count": 73,
   "metadata": {},
   "outputs": [
    {
     "name": "stdout",
     "output_type": "stream",
     "text": [
      "Prediction error on validation set: 179.65169897570013\n",
      "Prediction error on baseline set: 182.24450550417356\n"
     ]
    }
   ],
   "source": [
    "# Compare prediction error of selected model and baseline model\n",
    "\n",
    "print('Prediction error on validation set:',sqrt(mean_squared_error(y_val, y_pred)))\n",
    "print('Prediction error on baseline set:',sqrt(mean_squared_error(y_val, y_baseline['est_total_gross'].to_numpy())))"
   ]
  },
  {
   "cell_type": "markdown",
   "metadata": {},
   "source": [
    "<font color='blue'>\n",
    "\n",
    "### __The results on the validation set indicate that the model we developed outperforms the baseline model.__ </font>\n"
   ]
  },
  {
   "cell_type": "code",
   "execution_count": 74,
   "metadata": {},
   "outputs": [
    {
     "data": {
      "text/plain": [
       "Text(0.5, 1.0, 'Scatter plot of true VS predicted values')"
      ]
     },
     "execution_count": 74,
     "metadata": {},
     "output_type": "execute_result"
    },
    {
     "data": {
      "image/png": "[encoded data removed]",
      "text/plain": [
       "<Figure size 720x576 with 1 Axes>"
      ]
     },
     "metadata": {
      "needs_background": "light"
     },
     "output_type": "display_data"
    }
   ],
   "source": [
    "# Create a scatter plot to visualize how weel the prediction was with respect to the real data\n",
    "fig = plt.figure(figsize=[10,8])\n",
    "plt.scatter(y_val,y_pred)\n",
    "plt.xlabel('y true')\n",
    "plt.xlabel('y predicted')\n",
    "plt.title('Scatter plot of true VS predicted values')"
   ]
  },
  {
   "cell_type": "markdown",
   "metadata": {},
   "source": [
    "__Discussion on implementation__  \n",
    "\n",
    "- The above approach was followed based on some assumptions that were made with regards to the features. Deeper understanding of some of the columns may assist in deciding to follow a different feature selection process.  \n",
    "- Regarding the model selection process with the bayesian hyperoptimization, 4 algorithms that represent different categories of regression were chosen (linear methods, ensemble regressors, support vector machines).  \n",
    "- Getting the model ready for production would require to consider some aspects first, such as:\n",
    "    1. Scalability of the algorithm. How often will the model run and for how many instances?\n",
    "    2. Maybe re-training is needed after a while to ensure that as historical data might change, the algorithm will kepp track of that and be up to date.\n",
    "    3. Getting feedback from the model's performance would be useful to adapt the algorithm so that it performs better."
   ]
  }
 ],
 "metadata": {
  "kernelspec": {
   "display_name": "Python 3",
   "language": "python",
   "name": "python3"
  },
  "language_info": {
   "codemirror_mode": {
    "name": "ipython",
    "version": 3
   },
   "file_extension": ".py",
   "mimetype": "text/x-python",
   "name": "python",
   "nbconvert_exporter": "python",
   "pygments_lexer": "ipython3",
   "version": "3.6.9"
  }
 },
 "nbformat": 4,
 "nbformat_minor": 4
}
